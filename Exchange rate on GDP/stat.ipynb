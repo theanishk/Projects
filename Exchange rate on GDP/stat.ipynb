{
  "nbformat": 4,
  "nbformat_minor": 0,
  "metadata": {
    "colab": {
      "provenance": [],
      "include_colab_link": true
    },
    "kernelspec": {
      "name": "python3",
      "display_name": "Python 3"
    },
    "language_info": {
      "name": "python"
    }
  },
  "cells": [
    {
      "cell_type": "markdown",
      "metadata": {
        "id": "view-in-github",
        "colab_type": "text"
      },
      "source": [
        "<a href=\"https://colab.research.google.com/github/theanishk/stat-proj/blob/main/stat.ipynb\" target=\"_parent\"><img src=\"https://colab.research.google.com/assets/colab-badge.svg\" alt=\"Open In Colab\"/></a>"
      ]
    },
    {
      "cell_type": "markdown",
      "source": [
        "#**Differences in effect of real and nominal exchange rate on economic growth: case study of India**#\n",
        "**An HSN-201 Advanced Statistics Project**\n",
        "\n",
        "Anish Kumar - 21322006 | Param Mahabare - 21322021\n",
        "\n",
        "\n",
        "\n",
        "\n",
        "\n"
      ],
      "metadata": {
        "id": "ykU-9tgOcgZD"
      }
    },
    {
      "cell_type": "code",
      "execution_count": null,
      "metadata": {
        "id": "kM3HKKs8J08P"
      },
      "outputs": [],
      "source": [
        "import pandas as pd\n",
        "import matplotlib.pyplot as plt"
      ]
    },
    {
      "cell_type": "markdown",
      "source": [
        "Importing the data from\n",
        "\n",
        "https://raw.githubusercontent.com/theanishk/stat-proj/main/Data.csv\n",
        "\n",
        "Variables:\n",
        "*   GDP (constant 2015 US$)(in Trillion USD)\n",
        "*   NEER : Nominal effective exchange rate 36-currency Index\n",
        "*   REER : Real effective exchange rate 36-Currency Index\n",
        "\n",
        "(Real Exchange rate are taken with Base Year 2015-16)\n",
        "\n",
        "Data is taken from 2004 to 2020"
      ],
      "metadata": {
        "id": "qj-v36Ru3ndA"
      }
    },
    {
      "cell_type": "code",
      "source": [
        "data = pd.read_csv(\"https://raw.githubusercontent.com/theanishk/stat-proj/main/Data.csv\", index_col=0)"
      ],
      "metadata": {
        "id": "bdNebhzDJ5MC"
      },
      "execution_count": null,
      "outputs": []
    },
    {
      "cell_type": "code",
      "source": [
        "data.head()"
      ],
      "metadata": {
        "colab": {
          "base_uri": "https://localhost:8080/",
          "height": 238
        },
        "id": "DukmCJ0qKee6",
        "outputId": "377f7cac-509c-4a07-cd8d-c9a021838cf1"
      },
      "execution_count": null,
      "outputs": [
        {
          "output_type": "execute_result",
          "data": {
            "text/plain": [
              "       gdp    neer   reer\n",
              "year                     \n",
              "2004  1.09  133.77  89.21\n",
              "2005  1.18  136.78  91.35\n",
              "2006  1.27  130.61  89.89\n",
              "2007  1.31  140.13  97.42\n",
              "2008  1.42  124.86  88.90"
            ],
            "text/html": [
              "\n",
              "  <div id=\"df-2fcb9f8b-8555-4f1e-bbc6-3103ff6fb769\">\n",
              "    <div class=\"colab-df-container\">\n",
              "      <div>\n",
              "<style scoped>\n",
              "    .dataframe tbody tr th:only-of-type {\n",
              "        vertical-align: middle;\n",
              "    }\n",
              "\n",
              "    .dataframe tbody tr th {\n",
              "        vertical-align: top;\n",
              "    }\n",
              "\n",
              "    .dataframe thead th {\n",
              "        text-align: right;\n",
              "    }\n",
              "</style>\n",
              "<table border=\"1\" class=\"dataframe\">\n",
              "  <thead>\n",
              "    <tr style=\"text-align: right;\">\n",
              "      <th></th>\n",
              "      <th>gdp</th>\n",
              "      <th>neer</th>\n",
              "      <th>reer</th>\n",
              "    </tr>\n",
              "    <tr>\n",
              "      <th>year</th>\n",
              "      <th></th>\n",
              "      <th></th>\n",
              "      <th></th>\n",
              "    </tr>\n",
              "  </thead>\n",
              "  <tbody>\n",
              "    <tr>\n",
              "      <th>2004</th>\n",
              "      <td>1.09</td>\n",
              "      <td>133.77</td>\n",
              "      <td>89.21</td>\n",
              "    </tr>\n",
              "    <tr>\n",
              "      <th>2005</th>\n",
              "      <td>1.18</td>\n",
              "      <td>136.78</td>\n",
              "      <td>91.35</td>\n",
              "    </tr>\n",
              "    <tr>\n",
              "      <th>2006</th>\n",
              "      <td>1.27</td>\n",
              "      <td>130.61</td>\n",
              "      <td>89.89</td>\n",
              "    </tr>\n",
              "    <tr>\n",
              "      <th>2007</th>\n",
              "      <td>1.31</td>\n",
              "      <td>140.13</td>\n",
              "      <td>97.42</td>\n",
              "    </tr>\n",
              "    <tr>\n",
              "      <th>2008</th>\n",
              "      <td>1.42</td>\n",
              "      <td>124.86</td>\n",
              "      <td>88.90</td>\n",
              "    </tr>\n",
              "  </tbody>\n",
              "</table>\n",
              "</div>\n",
              "      <button class=\"colab-df-convert\" onclick=\"convertToInteractive('df-2fcb9f8b-8555-4f1e-bbc6-3103ff6fb769')\"\n",
              "              title=\"Convert this dataframe to an interactive table.\"\n",
              "              style=\"display:none;\">\n",
              "        \n",
              "  <svg xmlns=\"http://www.w3.org/2000/svg\" height=\"24px\"viewBox=\"0 0 24 24\"\n",
              "       width=\"24px\">\n",
              "    <path d=\"M0 0h24v24H0V0z\" fill=\"none\"/>\n",
              "    <path d=\"M18.56 5.44l.94 2.06.94-2.06 2.06-.94-2.06-.94-.94-2.06-.94 2.06-2.06.94zm-11 1L8.5 8.5l.94-2.06 2.06-.94-2.06-.94L8.5 2.5l-.94 2.06-2.06.94zm10 10l.94 2.06.94-2.06 2.06-.94-2.06-.94-.94-2.06-.94 2.06-2.06.94z\"/><path d=\"M17.41 7.96l-1.37-1.37c-.4-.4-.92-.59-1.43-.59-.52 0-1.04.2-1.43.59L10.3 9.45l-7.72 7.72c-.78.78-.78 2.05 0 2.83L4 21.41c.39.39.9.59 1.41.59.51 0 1.02-.2 1.41-.59l7.78-7.78 2.81-2.81c.8-.78.8-2.07 0-2.86zM5.41 20L4 18.59l7.72-7.72 1.47 1.35L5.41 20z\"/>\n",
              "  </svg>\n",
              "      </button>\n",
              "      \n",
              "  <style>\n",
              "    .colab-df-container {\n",
              "      display:flex;\n",
              "      flex-wrap:wrap;\n",
              "      gap: 12px;\n",
              "    }\n",
              "\n",
              "    .colab-df-convert {\n",
              "      background-color: #E8F0FE;\n",
              "      border: none;\n",
              "      border-radius: 50%;\n",
              "      cursor: pointer;\n",
              "      display: none;\n",
              "      fill: #1967D2;\n",
              "      height: 32px;\n",
              "      padding: 0 0 0 0;\n",
              "      width: 32px;\n",
              "    }\n",
              "\n",
              "    .colab-df-convert:hover {\n",
              "      background-color: #E2EBFA;\n",
              "      box-shadow: 0px 1px 2px rgba(60, 64, 67, 0.3), 0px 1px 3px 1px rgba(60, 64, 67, 0.15);\n",
              "      fill: #174EA6;\n",
              "    }\n",
              "\n",
              "    [theme=dark] .colab-df-convert {\n",
              "      background-color: #3B4455;\n",
              "      fill: #D2E3FC;\n",
              "    }\n",
              "\n",
              "    [theme=dark] .colab-df-convert:hover {\n",
              "      background-color: #434B5C;\n",
              "      box-shadow: 0px 1px 3px 1px rgba(0, 0, 0, 0.15);\n",
              "      filter: drop-shadow(0px 1px 2px rgba(0, 0, 0, 0.3));\n",
              "      fill: #FFFFFF;\n",
              "    }\n",
              "  </style>\n",
              "\n",
              "      <script>\n",
              "        const buttonEl =\n",
              "          document.querySelector('#df-2fcb9f8b-8555-4f1e-bbc6-3103ff6fb769 button.colab-df-convert');\n",
              "        buttonEl.style.display =\n",
              "          google.colab.kernel.accessAllowed ? 'block' : 'none';\n",
              "\n",
              "        async function convertToInteractive(key) {\n",
              "          const element = document.querySelector('#df-2fcb9f8b-8555-4f1e-bbc6-3103ff6fb769');\n",
              "          const dataTable =\n",
              "            await google.colab.kernel.invokeFunction('convertToInteractive',\n",
              "                                                     [key], {});\n",
              "          if (!dataTable) return;\n",
              "\n",
              "          const docLinkHtml = 'Like what you see? Visit the ' +\n",
              "            '<a target=\"_blank\" href=https://colab.research.google.com/notebooks/data_table.ipynb>data table notebook</a>'\n",
              "            + ' to learn more about interactive tables.';\n",
              "          element.innerHTML = '';\n",
              "          dataTable['output_type'] = 'display_data';\n",
              "          await google.colab.output.renderOutput(dataTable, element);\n",
              "          const docLink = document.createElement('div');\n",
              "          docLink.innerHTML = docLinkHtml;\n",
              "          element.appendChild(docLink);\n",
              "        }\n",
              "      </script>\n",
              "    </div>\n",
              "  </div>\n",
              "  "
            ]
          },
          "metadata": {},
          "execution_count": 8
        }
      ]
    },
    {
      "cell_type": "markdown",
      "source": [
        "**Plotting data**"
      ],
      "metadata": {
        "id": "pokZTo5n9IdH"
      }
    },
    {
      "cell_type": "code",
      "source": [
        "plt.rcParams['figure.figsize'] = [15, 5]\n",
        "fig, (ax1, ax2) = plt.subplots(1, 2)\n",
        "fig.suptitle('GDP and Real Effective Exchange Rate')\n",
        "ax1.plot(data['gdp'], 'tab:blue')\n",
        "ax1.set_xlabel('Years')\n",
        "ax1.set_ylabel('GDP (in tn $)')\n",
        "ax1.set_title('GDP (constant 2015 US$)')\n",
        "\n",
        "ax2.plot(data['reer'], 'tab:orange')\n",
        "ax2.set_xlabel('Years')\n",
        "ax2.set_ylabel('REER')\n",
        "ax2.set_title('Real Effective Exchange Rate')\n",
        "\n",
        "plt.show()"
      ],
      "metadata": {
        "colab": {
          "base_uri": "https://localhost:8080/",
          "height": 370
        },
        "id": "Jk71P6btOFLQ",
        "outputId": "abff8932-cd1a-43ba-9904-a288f84b81ef"
      },
      "execution_count": null,
      "outputs": [
        {
          "output_type": "display_data",
          "data": {
            "text/plain": [
              "<Figure size 1080x360 with 2 Axes>"
            ],
            "image/png": "[encoded data removed]"
          },
          "metadata": {
            "needs_background": "light"
          }
        }
      ]
    },
    {
      "cell_type": "code",
      "source": [
        "plt.rcParams['figure.figsize'] = [15, 5]\n",
        "fig, (ax1, ax2) = plt.subplots(1, 2)\n",
        "fig.suptitle('GDP and Nominal Effective Exchange Rate')\n",
        "ax1.plot(data['gdp'], 'tab:blue')\n",
        "ax1.set_xlabel('Years')\n",
        "ax1.set_ylabel('GDP (in tn $)')\n",
        "ax1.set_title('GDP (constant 2015 US$)')\n",
        "\n",
        "ax2.plot(data['neer'], 'tab:orange')\n",
        "ax2.set_xlabel('Years')\n",
        "ax2.set_ylabel('NEER')\n",
        "ax2.set_title('Nominal Effective Exchange Rate')\n",
        "\n",
        "plt.show()"
      ],
      "metadata": {
        "id": "03pYTmGdTLcw",
        "colab": {
          "base_uri": "https://localhost:8080/",
          "height": 370
        },
        "outputId": "34b7c576-4f2e-4328-e04f-037c5162ef61"
      },
      "execution_count": null,
      "outputs": [
        {
          "output_type": "display_data",
          "data": {
            "text/plain": [
              "<Figure size 1080x360 with 2 Axes>"
            ],
            "image/png": "[encoded data removed]"
          },
          "metadata": {
            "needs_background": "light"
          }
        }
      ]
    },
    {
      "cell_type": "markdown",
      "source": [
        "Checking for Stationarity"
      ],
      "metadata": {
        "id": "8hs7detN4FzI"
      }
    },
    {
      "cell_type": "markdown",
      "source": [
        "**Agumented Dicky Fullers test**\n",
        "\n",
        "Given a simple AR model\n",
        "\n",
        "\n",
        "$ {X_t\\ =\\ \\alpha\\ +\\ β {X_{t-1}}\\ +\\ ϵ_t} $\n",
        "\n",
        "${X_t}$ is variable of interest at the time t\n",
        "\n",
        "${β}$ is a coefficient that defines the unit root\n",
        "\n",
        "${ϵ_t}$ is noise or can be considered as an error term\n",
        "\n",
        "---\n",
        "Our hypothesis is\n",
        "\n",
        "${H_0\\ :\\ }$ Non-stationary time series(β = 1)\n",
        "\n",
        "${H_A\\ :\\ }$ Stationary time series(β < 1)"
      ],
      "metadata": {
        "id": "eOoamiRI5szq"
      }
    },
    {
      "cell_type": "code",
      "source": [
        "from statsmodels.tsa.stattools import adfuller\n",
        "result = adfuller(data['gdp'])\n",
        "print('ADF Statistic: %f' % result[0])\n",
        "print('p-value: %f' % result[1])\n",
        "print('Critical Values:')\n",
        "for key, value in result[4].items():\n",
        "\tprint('\\t%s: %.3f' % (key, value))"
      ],
      "metadata": {
        "id": "ZYCJ1oq7zXwN",
        "colab": {
          "base_uri": "https://localhost:8080/"
        },
        "outputId": "d635f08e-65bd-4aff-d761-356dc37b0178"
      },
      "execution_count": null,
      "outputs": [
        {
          "output_type": "stream",
          "name": "stdout",
          "text": [
            "ADF Statistic: -0.168922\n",
            "p-value: 0.942126\n",
            "Critical Values:\n",
            "\t1%: -3.924\n",
            "\t5%: -3.068\n",
            "\t10%: -2.674\n"
          ]
        }
      ]
    },
    {
      "cell_type": "markdown",
      "source": [
        "The ADF Statistic is less negative as compared to 1% critical value, which shows the GDP is non-stationary."
      ],
      "metadata": {
        "id": "SrAGq3umYeqy"
      }
    },
    {
      "cell_type": "code",
      "source": [
        "from statsmodels.tsa.stattools import adfuller\n",
        "result = adfuller(data['neer'])\n",
        "print('ADF Statistic: %f' % result[0])\n",
        "print('p-value: %f' % result[1])\n",
        "print('Critical Values:')\n",
        "for key, value in result[4].items():\n",
        "\tprint('\\t%s: %.3f' % (key, value))"
      ],
      "metadata": {
        "id": "b4AXx87-ztuk",
        "colab": {
          "base_uri": "https://localhost:8080/"
        },
        "outputId": "c31cf945-12dd-4adb-b7fd-911f591aa757"
      },
      "execution_count": null,
      "outputs": [
        {
          "output_type": "stream",
          "name": "stdout",
          "text": [
            "ADF Statistic: -2.137732\n",
            "p-value: 0.229616\n",
            "Critical Values:\n",
            "\t1%: -4.069\n",
            "\t5%: -3.127\n",
            "\t10%: -2.702\n"
          ]
        }
      ]
    },
    {
      "cell_type": "markdown",
      "source": [
        "Similarly, here also the ADF Statistic is less negative as compared to 1% critical value, which shows the Nominal Effective Exchange Rate is non-stationary."
      ],
      "metadata": {
        "id": "0iBZ-HCeZBVe"
      }
    },
    {
      "cell_type": "code",
      "source": [
        "from statsmodels.tsa.stattools import adfuller\n",
        "result = adfuller(data['reer'])\n",
        "print('ADF Statistic: %f' % result[0])\n",
        "print('p-value: %f' % result[1])\n",
        "print('Critical Values:')\n",
        "for key, value in result[4].items():\n",
        "\tprint('\\t%s: %.3f' % (key, value))"
      ],
      "metadata": {
        "colab": {
          "base_uri": "https://localhost:8080/"
        },
        "id": "HV8Cg5UUOb0X",
        "outputId": "55dcf10b-709d-4884-c983-5d44f3e2e04b"
      },
      "execution_count": null,
      "outputs": [
        {
          "output_type": "stream",
          "name": "stdout",
          "text": [
            "ADF Statistic: 1.664325\n",
            "p-value: 0.998038\n",
            "Critical Values:\n",
            "\t1%: -4.332\n",
            "\t5%: -3.233\n",
            "\t10%: -2.749\n"
          ]
        }
      ]
    },
    {
      "cell_type": "markdown",
      "source": [
        "Similarly, here also the ADF Statistic is less negative as compared to 1% critical value, which shows the Real Effective Exchange Rate is non-stationary."
      ],
      "metadata": {
        "id": "VgqiT_wWZGIo"
      }
    }
  ]
}